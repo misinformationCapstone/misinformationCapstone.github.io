{
 "cells": [
  {
   "cell_type": "code",
   "execution_count": 103,
   "metadata": {},
   "outputs": [],
   "source": [
    "import tweepy\n",
    "import pandas as pd\n",
    "import sys\n",
    "import datetime\n",
    "import re\n",
    "import time"
   ]
  },
  {
   "cell_type": "code",
   "execution_count": 4,
   "metadata": {},
   "outputs": [],
   "source": [
    "consumer_key = \"frcCfzKjDpG8hSQsrChDIUWcp\"\n",
    "consumer_secret = \"hP92dh6X4UP8iGC5hLCoVSfJNoUyYbVNMsm3SeshivIIK7R7f4\"\n",
    "access_token = \"255385472-HIleoNOFpIh08WlTLZ8ku3I1qSG9tGiCSQRG7rrS\"\n",
    "access_token_secret = \"t1boQVZ3F6caTRQbGXJwvt4iZMd4hInbyxGS9Wf3VDjLh\"\n",
    "auth = tweepy.OAuthHandler(consumer_key, consumer_secret)\n",
    "auth.set_access_token(access_token, access_token_secret)\n",
    "api = tweepy.API(auth,wait_on_rate_limit=True)"
   ]
  },
  {
   "cell_type": "code",
   "execution_count": 111,
   "metadata": {},
   "outputs": [],
   "source": [
    "usernames = ['BuckForColorado',\n",
    "            'RepDLamborn', 'RepJasonCrow', 'Ed4Colorado']"
   ]
  },
  {
   "cell_type": "code",
   "execution_count": 109,
   "metadata": {},
   "outputs": [],
   "source": [
    "def get_tweets(username):\n",
    "    username = username\n",
    "    count = 1500\n",
    "\n",
    "    try:     \n",
    "     # Creation of query method using parameters\n",
    "     tweets = tweepy.Cursor(api.user_timeline,id=username, tweet_mode=\"extended\").items(count)\n",
    "\n",
    "     # Pulling information from tweets iterable object\n",
    "     tweets_list = [[tweet.created_at, tweet.id, tweet.full_text] for tweet in tweets]\n",
    "\n",
    "     # Creation of dataframe from tweets list\n",
    "     # Add or remove columns as you remove tweet information\n",
    "     tweets_df = pd.DataFrame(tweets_list)\n",
    "    except BaseException as e:\n",
    "          print('failed on_status,',str(e))\n",
    "          print(username)\n",
    "          time.sleep(3)\n",
    "            \n",
    "    start_date = datetime.datetime(2020, 11, 1)\n",
    "    end_date = datetime.datetime(2020, 11, 14)\n",
    "    tweets = []\n",
    "    tweets_date = {}\n",
    "    for i in range(len(tweets_list)):\n",
    "        if start_date <= tweets_list[i][0] <= end_date:\n",
    "            tweets.append(tweets_list[i][2])\n",
    "            tweets_date[tweets_list[i][0]] = tweets_list[i][2]\n",
    "    for tweet in tweets_date:\n",
    "        tweets_date[tweet] = tweets_date[tweet].replace('\\n', '')\n",
    "        tweets_date[tweet] = re.sub(r'\\w+:\\/{2}[\\d\\w-]+(\\.[\\d\\w-]+)*(?:(?:\\/[^\\s/]*))*', '', tweets_date[tweet])\n",
    "    return tweets_date"
   ]
  },
  {
   "cell_type": "code",
   "execution_count": 106,
   "metadata": {},
   "outputs": [],
   "source": [
    "def export_tweets(tweets, user):\n",
    "    df = pd.DataFrame.from_dict(tweets_date, orient = 'index')\n",
    "\n",
    "    df.index.name = 'Date'\n",
    "    df = df.rename(columns = {0 : 'Tweet'})\n",
    "    df.to_csv('tweets/'+user+'.csv')\n"
   ]
  },
  {
   "cell_type": "code",
   "execution_count": 112,
   "metadata": {},
   "outputs": [],
   "source": [
    "for user in usernames:\n",
    "    tweets = get_tweets(user)\n",
    "    export_tweets(tweets, user)"
   ]
  },
  {
   "cell_type": "code",
   "execution_count": 101,
   "metadata": {},
   "outputs": [],
   "source": [
    "export_tweets(tweets, 'test')"
   ]
  },
  {
   "cell_type": "code",
   "execution_count": null,
   "metadata": {},
   "outputs": [],
   "source": []
  }
 ],
 "metadata": {
  "kernelspec": {
   "display_name": "Python 3",
   "language": "python",
   "name": "python3"
  },
  "language_info": {
   "codemirror_mode": {
    "name": "ipython",
    "version": 3
   },
   "file_extension": ".py",
   "mimetype": "text/x-python",
   "name": "python",
   "nbconvert_exporter": "python",
   "pygments_lexer": "ipython3",
   "version": "3.8.5"
  }
 },
 "nbformat": 4,
 "nbformat_minor": 4
}
